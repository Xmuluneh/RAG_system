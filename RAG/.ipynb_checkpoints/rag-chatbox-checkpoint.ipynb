{
 "cells": [
  {
   "cell_type": "code",
   "execution_count": 33,
   "metadata": {},
   "outputs": [],
   "source": [
    "import os\n",
    "from langchain.chat_models import ChatOpenAI"
   ]
  },
  {
   "cell_type": "code",
   "execution_count": 34,
   "metadata": {},
   "outputs": [],
   "source": [
    "os.environ['OPENAI_API_KEY'] = os.getenv('OPENAI_API_KEY')"
   ]
  },
  {
   "cell_type": "code",
   "execution_count": 35,
   "metadata": {},
   "outputs": [],
   "source": [
    "chat = ChatOpenAI(\n",
    "             openai_api_key= os.environ['OPENAI_API_KEY'],\n",
    "             model='gpt-3.5-turbo'\n",
    "\n",
    ")"
   ]
  },
  {
   "cell_type": "code",
   "execution_count": 39,
   "metadata": {},
   "outputs": [],
   "source": [
    "from langchain.schema import (\n",
    "    SystemMessage,\n",
    "    HumanMessage,\n",
    "    AIMessage\n",
    ")\n",
    "\n",
    "messages = [\n",
    "    SystemMessage(content=\"You are a helpful assistant.\"),\n",
    "    HumanMessage(content=\"Hi AI, how are you today?\"),\n",
    "    AIMessage(content=\"I'm great thank you. How can I help you?\"),\n",
    "    HumanMessage(content=\"I'd like to understand string theory.\")\n",
    "]"
   ]
  },
  {
   "cell_type": "code",
   "execution_count": 40,
   "metadata": {},
   "outputs": [
    {
     "data": {
      "text/plain": [
       "AIMessage(content=\"String theory is a theoretical framework in physics that aims to explain the fundamental nature of particles and the interactions between them. It proposes that the most fundamental entities in the universe are not point-like particles, but rather tiny, vibrating strings. These strings can vibrate at different frequencies, giving rise to different particles and their properties.\\n\\nHere are some key points to help you understand string theory:\\n\\n1. Dimensions: String theory suggests that the universe consists of more than the four dimensions we experience (three spatial dimensions and one time dimension). It proposes that there are additional, compactified dimensions, which are curled up and too small for us to perceive directly.\\n\\n2. Dualities: String theory also introduces the concept of dualities, which means different physical descriptions of the same phenomenon. This implies that seemingly different theories are actually equivalent and describe the same underlying physics. Some of the prominent dualities in string theory include T-duality, S-duality, and AdS/CFT correspondence.\\n\\n3. Quantum Gravity: One of the primary motivations for string theory is to reconcile quantum mechanics and general relativity, which are two successful but incompatible theories. String theory incorporates gravity within its framework and provides a potential solution to the problem of quantum gravity.\\n\\n4. String Vibrations: The different vibrational modes of the strings give rise to different particles with distinct properties. The interactions between these particles are then described by the theory.\\n\\n5. Multiverse: String theory suggests the existence of a vast landscape of possible universes, known as the multiverse. Each universe within this multiverse may have different fundamental constants and physical laws.\\n\\nIt's important to note that string theory is still a subject of ongoing research, and many aspects of it remain speculative. It is a complex mathematical framework that requires advanced knowledge of physics and mathematics to fully grasp. Nevertheless, it has generated significant interest and has influenced various areas of theoretical physics.\", additional_kwargs={}, example=False)"
      ]
     },
     "execution_count": 40,
     "metadata": {},
     "output_type": "execute_result"
    }
   ],
   "source": [
    "res = chat(messages)\n",
    "res"
   ]
  },
  {
   "cell_type": "code",
   "execution_count": 41,
   "metadata": {},
   "outputs": [
    {
     "name": "stdout",
     "output_type": "stream",
     "text": [
      "String theory is a theoretical framework in physics that aims to explain the fundamental nature of particles and the interactions between them. It proposes that the most fundamental entities in the universe are not point-like particles, but rather tiny, vibrating strings. These strings can vibrate at different frequencies, giving rise to different particles and their properties.\n",
      "\n",
      "Here are some key points to help you understand string theory:\n",
      "\n",
      "1. Dimensions: String theory suggests that the universe consists of more than the four dimensions we experience (three spatial dimensions and one time dimension). It proposes that there are additional, compactified dimensions, which are curled up and too small for us to perceive directly.\n",
      "\n",
      "2. Dualities: String theory also introduces the concept of dualities, which means different physical descriptions of the same phenomenon. This implies that seemingly different theories are actually equivalent and describe the same underlying physics. Some of the prominent dualities in string theory include T-duality, S-duality, and AdS/CFT correspondence.\n",
      "\n",
      "3. Quantum Gravity: One of the primary motivations for string theory is to reconcile quantum mechanics and general relativity, which are two successful but incompatible theories. String theory incorporates gravity within its framework and provides a potential solution to the problem of quantum gravity.\n",
      "\n",
      "4. String Vibrations: The different vibrational modes of the strings give rise to different particles with distinct properties. The interactions between these particles are then described by the theory.\n",
      "\n",
      "5. Multiverse: String theory suggests the existence of a vast landscape of possible universes, known as the multiverse. Each universe within this multiverse may have different fundamental constants and physical laws.\n",
      "\n",
      "It's important to note that string theory is still a subject of ongoing research, and many aspects of it remain speculative. It is a complex mathematical framework that requires advanced knowledge of physics and mathematics to fully grasp. Nevertheless, it has generated significant interest and has influenced various areas of theoretical physics.\n"
     ]
    }
   ],
   "source": [
    "print(res.content)"
   ]
  },
  {
   "cell_type": "code",
   "execution_count": 42,
   "metadata": {},
   "outputs": [
    {
     "name": "stdout",
     "output_type": "stream",
     "text": [
      "Physicists believe that string theory has the potential to produce a unified theory because it incorporates both quantum mechanics and general relativity. Quantum mechanics successfully describes the behavior of particles at the microscopic level, while general relativity explains the behavior of gravity and the large-scale structure of the universe. However, these two theories are inherently incompatible and break down under certain conditions, such as at the center of a black hole.\n",
      "\n",
      "String theory attempts to overcome this incompatibility by providing a consistent framework that combines both quantum mechanics and general relativity. It introduces the idea that all particles are fundamentally composed of tiny strings vibrating at different frequencies. These vibrations give rise to the different particles and their interactions. By including gravity within the same framework, string theory aims to provide a unified description of all fundamental forces and particles in the universe.\n",
      "\n",
      "Additionally, string theory has the potential to explain certain fundamental aspects of the universe that are not addressed by other theories. For example, it can potentially shed light on the nature of dark matter, dark energy, and the origin of the universe itself.\n",
      "\n",
      "While string theory has yet to make definitive experimental predictions that can be tested, physicists find its mathematical consistency and elegance compelling. It provides a framework to address long-standing questions in physics and offers the possibility of a unified understanding of the fundamental laws of nature. However, it is important to note that string theory is still a subject of active research, and its ultimate validity and ability to produce a unified theory are still being explored.\n"
     ]
    }
   ],
   "source": [
    "# add latest AI response to messages\n",
    "messages.append(res)\n",
    "\n",
    "# now create a new user prompt\n",
    "prompt = HumanMessage(\n",
    "    content=\"Why do physicists believe it can produce a 'unified theory'?\"\n",
    ")\n",
    "# add to messages\n",
    "messages.append(prompt)\n",
    "\n",
    "# send to chat-gpt\n",
    "res = chat(messages)\n",
    "\n",
    "print(res.content)"
   ]
  },
  {
   "cell_type": "code",
   "execution_count": 43,
   "metadata": {},
   "outputs": [
    {
     "name": "stdout",
     "output_type": "stream",
     "text": [
      "I'm sorry, but I don't have any information about a subject called \"Llama2.\" It's possible that it may be a specific term or reference in a particular context that I'm not familiar with. Could you please provide more details or clarify your question?\n"
     ]
    }
   ],
   "source": [
    "prompt = HumanMessage(\n",
    "    content='What is so special about Llama2?'\n",
    ")\n",
    "messages.append(prompt)\n",
    "res = chat(messages)\n",
    "print(res.content)"
   ]
  },
  {
   "cell_type": "code",
   "execution_count": 44,
   "metadata": {},
   "outputs": [
    {
     "name": "stdout",
     "output_type": "stream",
     "text": [
      "I apologize, but I don't have any information on a specific concept or technology called \"LLMchain\" in LangChain. It's possible that it may be a lesser-known or specialized term. If you have any other questions or need assistance with a different topic, feel free to ask!\n"
     ]
    }
   ],
   "source": [
    "prompt = HumanMessage(\n",
    "    content='can you tell me about the LLMchain in LangChain?'\n",
    ")\n",
    "messages.append(prompt)\n",
    "res = chat(messages)\n",
    "print(res.content)"
   ]
  },
  {
   "cell_type": "code",
   "execution_count": null,
   "metadata": {},
   "outputs": [],
   "source": []
  },
  {
   "cell_type": "code",
   "execution_count": null,
   "metadata": {},
   "outputs": [],
   "source": [
    "# b54f0426-5563-4d47-9ad4-5d25caf38077"
   ]
  },
  {
   "cell_type": "code",
   "execution_count": null,
   "metadata": {},
   "outputs": [],
   "source": [
    "#https://huggingface.co/datasets/fka/awesome-chatgpt-prompts"
   ]
  },
  {
   "cell_type": "markdown",
   "metadata": {},
   "source": [
    "### Importing the Data"
   ]
  },
  {
   "cell_type": "code",
   "execution_count": 4,
   "metadata": {},
   "outputs": [
    {
     "data": {
      "text/plain": [
       "Dataset({\n",
       "    features: ['doi', 'chunk-id', 'chunk', 'id', 'title', 'summary', 'source', 'authors', 'categories', 'comment', 'journal_ref', 'primary_category', 'published', 'updated', 'references'],\n",
       "    num_rows: 4838\n",
       "})"
      ]
     },
     "execution_count": 4,
     "metadata": {},
     "output_type": "execute_result"
    }
   ],
   "source": [
    "from datasets import load_dataset\n",
    "\n",
    "dataset = load_dataset(\n",
    "    \"jamescalam/llama-2-arxiv-papers-chunked\",split=\"train\"\n",
    ")\n",
    "\n",
    "dataset"
   ]
  },
  {
   "cell_type": "code",
   "execution_count": 5,
   "metadata": {},
   "outputs": [
    {
     "data": {
      "text/plain": [
       "{'doi': '1102.0183',\n",
       " 'chunk-id': '0',\n",
       " 'chunk': 'High-Performance Neural Networks\\nfor Visual Object Classi\\x0ccation\\nDan C. Cire\\x18 san, Ueli Meier, Jonathan Masci,\\nLuca M. Gambardella and J\\x7f urgen Schmidhuber\\nTechnical Report No. IDSIA-01-11\\nJanuary 2011\\nIDSIA / USI-SUPSI\\nDalle Molle Institute for Arti\\x0ccial Intelligence\\nGalleria 2, 6928 Manno, Switzerland\\nIDSIA is a joint institute of both University of Lugano (USI) and University of Applied Sciences of Southern Switzerland (SUPSI),\\nand was founded in 1988 by the Dalle Molle Foundation which promoted quality of life.\\nThis work was partially supported by the Swiss Commission for Technology and Innovation (CTI), Project n. 9688.1 IFF:\\nIntelligent Fill in Form.arXiv:1102.0183v1  [cs.AI]  1 Feb 2011\\nTechnical Report No. IDSIA-01-11 1\\nHigh-Performance Neural Networks\\nfor Visual Object Classi\\x0ccation\\nDan C. Cire\\x18 san, Ueli Meier, Jonathan Masci,\\nLuca M. Gambardella and J\\x7f urgen Schmidhuber\\nJanuary 2011\\nAbstract\\nWe present a fast, fully parameterizable GPU implementation of Convolutional Neural\\nNetwork variants. Our feature extractors are neither carefully designed nor pre-wired, but',\n",
       " 'id': '1102.0183',\n",
       " 'title': 'High-Performance Neural Networks for Visual Object Classification',\n",
       " 'summary': 'We present a fast, fully parameterizable GPU implementation of Convolutional\\nNeural Network variants. Our feature extractors are neither carefully designed\\nnor pre-wired, but rather learned in a supervised way. Our deep hierarchical\\narchitectures achieve the best published results on benchmarks for object\\nclassification (NORB, CIFAR10) and handwritten digit recognition (MNIST), with\\nerror rates of 2.53%, 19.51%, 0.35%, respectively. Deep nets trained by simple\\nback-propagation perform better than more shallow ones. Learning is\\nsurprisingly rapid. NORB is completely trained within five epochs. Test error\\nrates on MNIST drop to 2.42%, 0.97% and 0.48% after 1, 3 and 17 epochs,\\nrespectively.',\n",
       " 'source': 'http://arxiv.org/pdf/1102.0183',\n",
       " 'authors': ['Dan C. Cireşan',\n",
       "  'Ueli Meier',\n",
       "  'Jonathan Masci',\n",
       "  'Luca M. Gambardella',\n",
       "  'Jürgen Schmidhuber'],\n",
       " 'categories': ['cs.AI', 'cs.NE'],\n",
       " 'comment': '12 pages, 2 figures, 5 tables',\n",
       " 'journal_ref': None,\n",
       " 'primary_category': 'cs.AI',\n",
       " 'published': '20110201',\n",
       " 'updated': '20110201',\n",
       " 'references': []}"
      ]
     },
     "execution_count": 5,
     "metadata": {},
     "output_type": "execute_result"
    }
   ],
   "source": [
    "dataset[0]\n"
   ]
  },
  {
   "cell_type": "code",
   "execution_count": 49,
   "metadata": {},
   "outputs": [],
   "source": [
    "import pinecone\n",
    "# get API key from app.pinecone.io and environment from console\n",
    "pinecone.init(\n",
    "    api_key=os.environ.get('PINECONE_API_KEY')\n",
    "    environment=os.environ.get('PINECONE_ENVIRONMENT')\n",
    ")"
   ]
  },
  {
   "cell_type": "code",
   "execution_count": null,
   "metadata": {},
   "outputs": [],
   "source": [
    "\n"
   ]
  },
  {
   "cell_type": "code",
   "execution_count": null,
   "metadata": {},
   "outputs": [],
   "source": []
  }
 ],
 "metadata": {
  "kernelspec": {
   "display_name": "Python 3 (ipykernel)",
   "language": "python",
   "name": "python3"
  },
  "language_info": {
   "codemirror_mode": {
    "name": "ipython",
    "version": 3
   },
   "file_extension": ".py",
   "mimetype": "text/x-python",
   "name": "python",
   "nbconvert_exporter": "python",
   "pygments_lexer": "ipython3",
   "version": "3.12.1"
  }
 },
 "nbformat": 4,
 "nbformat_minor": 4
}

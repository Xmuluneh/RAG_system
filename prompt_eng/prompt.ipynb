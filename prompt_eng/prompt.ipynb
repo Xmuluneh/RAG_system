{
 "cells": [
  {
   "cell_type": "code",
   "execution_count": 16,
   "metadata": {},
   "outputs": [],
   "source": [
    "import os\n",
    "from langchain.chat_models import ChatOpenAI"
   ]
  },
  {
   "cell_type": "code",
   "execution_count": 17,
   "metadata": {},
   "outputs": [],
   "source": [
    "OPENAI_API_KEY=''"
   ]
  },
  {
   "cell_type": "code",
   "execution_count": 18,
   "metadata": {},
   "outputs": [],
   "source": [
    "from langchain import PromptTemplate\n",
    "demo_template='''I want you to act as a acting nutritionist for people.\n",
    "In an easy way, explain the basics of {nutritionist}.'''"
   ]
  },
  {
   "cell_type": "code",
   "execution_count": 19,
   "metadata": {},
   "outputs": [
    {
     "data": {
      "text/plain": [
       "'I want you to act as a acting nutritionist for people.\\nIn an easy way, explain the basics of balanced diet.'"
      ]
     },
     "execution_count": 19,
     "metadata": {},
     "output_type": "execute_result"
    }
   ],
   "source": [
    "prompt=PromptTemplate(\n",
    "    input_variables=['nutritionist'],\n",
    "    template=demo_template\n",
    "    )\n",
    "\n",
    "prompt.format(nutritionist='balanced diet')"
   ]
  },
  {
   "cell_type": "code",
   "execution_count": 40,
   "metadata": {},
   "outputs": [],
   "source": [
    "from langchain_openai import OpenAI  \n",
    "from langchain.chains import LLMChain\n",
    "\n",
    "llm = OpenAI(temperature=0.7, openai_api_key=OPENAI_API_KEY) \n",
    "chain1 = LLMChain(llm=llm, prompt=prompt)"
   ]
  },
  {
   "cell_type": "code",
   "execution_count": 39,
   "metadata": {},
   "outputs": [
    {
     "data": {
      "text/plain": [
       "'\\n\\nAs an acting nutritionist, my main goal is to help people understand the importance of a balanced diet for their overall health and well-being. A balanced diet is a way of eating that provides our bodies with all the essential nutrients it needs to function properly.\\n\\nThe three main components of a balanced diet are carbohydrates, proteins, and fats. These are known as macronutrients and they provide us with the energy we need to carry out our daily activities. Carbohydrates are our main source of energy and can be found in foods like bread, rice, pasta, and fruits. Proteins are essential for building and repairing tissues and can be found in foods like meat, fish, eggs, and legumes. Fats are important for keeping our bodies warm and protecting our organs, and can be found in foods like avocados, nuts, and olive oil.\\n\\nIn addition to macronutrients, our bodies also require micronutrients, which are essential vitamins and minerals. These can be found in a variety of foods such as fruits, vegetables, whole grains, and dairy products. It is important to include a variety of these foods in our diet to ensure we are getting all the necessary nutrients.\\n\\nA balanced diet also means eating in moderation and including a variety of foods'"
      ]
     },
     "execution_count": 39,
     "metadata": {},
     "output_type": "execute_result"
    }
   ],
   "source": [
    "chain1.run('balanced diet')"
   ]
  },
  {
   "cell_type": "code",
   "execution_count": 39,
   "metadata": {},
   "outputs": [
    {
     "data": {
      "text/plain": [
       "'\\n\\nAs an acting nutritionist, my main goal is to help people understand the importance of a balanced diet for their overall health and well-being. A balanced diet is a way of eating that provides our bodies with all the essential nutrients it needs to function properly.\\n\\nThe three main components of a balanced diet are carbohydrates, proteins, and fats. These are known as macronutrients and they provide us with the energy we need to carry out our daily activities. Carbohydrates are our main source of energy and can be found in foods like bread, rice, pasta, and fruits. Proteins are essential for building and repairing tissues and can be found in foods like meat, fish, eggs, and legumes. Fats are important for keeping our bodies warm and protecting our organs, and can be found in foods like avocados, nuts, and olive oil.\\n\\nIn addition to macronutrients, our bodies also require micronutrients, which are essential vitamins and minerals. These can be found in a variety of foods such as fruits, vegetables, whole grains, and dairy products. It is important to include a variety of these foods in our diet to ensure we are getting all the necessary nutrients.\\n\\nA balanced diet also means eating in moderation and including a variety of foods'"
      ]
     },
     "execution_count": 39,
     "metadata": {},
     "output_type": "execute_result"
    }
   ],
   "source": [
    "chain1.run('balanced')"
   ]
  },
  {
   "cell_type": "code",
   "execution_count": 41,
   "metadata": {},
   "outputs": [
    {
     "data": {
      "text/plain": [
       "\"\\n\\nHappy Ball is a delicious and nutritious snack that is perfect for people of all ages! It is made with a combination of healthy ingredients, including whole grains, nuts, seeds, and dried fruits.\\n\\nOne of the main benefits of Happy Ball is its high fiber content. Fiber is important for our digestive health and can also help us feel full and satisfied after eating. This can prevent overeating and aid in weight management.\\n\\nAnother key component of Happy Ball is its healthy fats. Nuts and seeds are great sources of unsaturated fats, which are important for heart health and can help lower cholesterol levels.\\n\\nHappy Ball is also a good source of protein, which is essential for building and repairing our muscles. This makes it a great snack option for athletes or anyone looking to maintain a healthy and active lifestyle.\\n\\nIn addition, Happy Ball is free from added sugars and artificial ingredients, making it a healthier alternative to other processed snacks.\\n\\nSo next time you're looking for a tasty and nutritious snack, grab a Happy Ball and enjoy all the goodness it has to offer!\""
      ]
     },
     "execution_count": 41,
     "metadata": {},
     "output_type": "execute_result"
    }
   ],
   "source": [
    "chain1.run('Happy Ball')"
   ]
  },
  {
   "cell_type": "code",
   "execution_count": 42,
   "metadata": {},
   "outputs": [
    {
     "data": {
      "text/plain": [
       "\"\\n\\nAvocado and tofu are both great sources of plant-based protein and healthy fats. They can be a delicious and nutritious addition to your meals. Let's break down the basics of these two ingredients and how they can benefit your health.\\n\\nAvocado is a fruit that is rich in monounsaturated fats, which are considered healthy fats. These fats can help lower bad cholesterol levels and reduce the risk of heart disease. Avocados are also a good source of fiber, vitamins, and minerals such as potassium and folate. This combination of nutrients can help improve digestion, boost immune function, and regulate blood pressure.\\n\\nTofu, on the other hand, is a plant-based protein made from soybeans. It is low in calories and contains all nine essential amino acids, making it a complete protein. Tofu is also a good source of calcium, iron, and magnesium, which are important for bone health, energy production, and muscle function.\\n\\nNow, let's talk about how avocado and tofu work together. Combining these two ingredients can create a balanced meal that is both satisfying and nutritious. The healthy fats from avocado can help slow down the digestion of tofu, which can provide a more sustained release of energy. This can help you feel fuller for longer and prevent blood\""
      ]
     },
     "execution_count": 42,
     "metadata": {},
     "output_type": "execute_result"
    }
   ],
   "source": [
    "chain1.run('Avocado with Tofu')"
   ]
  },
  {
   "cell_type": "code",
   "execution_count": null,
   "metadata": {},
   "outputs": [],
   "source": []
  }
 ],
 "metadata": {
  "kernelspec": {
   "display_name": "Python 3 (ipykernel)",
   "language": "python",
   "name": "python3"
  },
  "language_info": {
   "codemirror_mode": {
    "name": "ipython",
    "version": 3
   },
   "file_extension": ".py",
   "mimetype": "text/x-python",
   "name": "python",
   "nbconvert_exporter": "python",
   "pygments_lexer": "ipython3",
   "version": "3.12.0"
  }
 },
 "nbformat": 4,
 "nbformat_minor": 4
}
